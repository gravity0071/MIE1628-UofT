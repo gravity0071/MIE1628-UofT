{
 "cells": [
  {
   "cell_type": "code",
   "execution_count": 0,
   "metadata": {
    "application/vnd.databricks.v1+cell": {
     "cellMetadata": {
      "byteLimit": 2048000,
      "rowLimit": 10000
     },
     "inputWidgets": {},
     "nuid": "9002e34d-5170-4cdd-ab4b-bd6a377d7661",
     "showTitle": false,
     "title": ""
    }
   },
   "outputs": [
    {
     "output_type": "display_data",
     "data": {
      "text/html": [
       "<style scoped>\n",
       "  .table-result-container {\n",
       "    max-height: 300px;\n",
       "    overflow: auto;\n",
       "  }\n",
       "  table, th, td {\n",
       "    border: 1px solid black;\n",
       "    border-collapse: collapse;\n",
       "  }\n",
       "  th, td {\n",
       "    padding: 5px;\n",
       "  }\n",
       "  th {\n",
       "    text-align: left;\n",
       "  }\n",
       "</style><div class='table-result-container'><table class='table-result'><thead style='background-color: white'><tr><th>path</th><th>name</th><th>size</th><th>modificationTime</th></tr></thead><tbody><tr><td>dbfs:/kdd/kddcup_data.gz</td><td>kddcup_data.gz</td><td>2144903</td><td>1720106335000</td></tr></tbody></table></div>"
      ]
     },
     "metadata": {
      "application/vnd.databricks.v1+output": {
       "addedWidgets": {},
       "aggData": [],
       "aggError": "",
       "aggOverflow": false,
       "aggSchema": [],
       "aggSeriesLimitReached": false,
       "aggType": "",
       "arguments": {},
       "columnCustomDisplayInfos": {},
       "data": [
        [
         "dbfs:/kdd/kddcup_data.gz",
         "kddcup_data.gz",
         2144903,
         1720106335000
        ]
       ],
       "datasetInfos": [],
       "dbfsResultPath": null,
       "isJsonSchema": true,
       "metadata": {},
       "overflow": false,
       "plotOptions": {
        "customPlotOptions": {},
        "displayType": "table",
        "pivotAggregation": null,
        "pivotColumns": null,
        "xColumns": null,
        "yColumns": null
       },
       "removedWidgets": [],
       "schema": [
        {
         "metadata": "{}",
         "name": "path",
         "type": "\"string\""
        },
        {
         "metadata": "{}",
         "name": "name",
         "type": "\"string\""
        },
        {
         "metadata": "{}",
         "name": "size",
         "type": "\"long\""
        },
        {
         "metadata": "{}",
         "name": "modificationTime",
         "type": "\"long\""
        }
       ],
       "type": "table"
      }
     },
     "output_type": "display_data"
    }
   ],
   "source": [
    "import urllib.request \n",
    "urllib.request.urlretrieve(\"http://kdd.ics.uci.edu/databases/kddcup99/kddcup.data_10_percent.gz\", \"/tmp/kddcup_data.gz\")\n",
    "dbutils.fs.mv(\"file:/tmp/kddcup_data.gz\", \"dbfs:/kdd/kddcup_data.gz\") \n",
    "display(dbutils.fs.ls(\"dbfs:/kdd\"))"
   ]
  },
  {
   "cell_type": "code",
   "execution_count": 0,
   "metadata": {
    "application/vnd.databricks.v1+cell": {
     "cellMetadata": {
      "byteLimit": 2048000,
      "rowLimit": 10000
     },
     "inputWidgets": {},
     "nuid": "73755679-4d73-4fd9-9da3-8654b2a0a1fe",
     "showTitle": false,
     "title": ""
    }
   },
   "outputs": [
    {
     "output_type": "execute_result",
     "data": {
      "text/plain": [
       "['0,tcp,http,SF,181,5450,0,0,0,0,0,1,0,0,0,0,0,0,0,0,0,0,8,8,0.00,0.00,0.00,0.00,1.00,0.00,0.00,9,9,1.00,0.00,0.11,0.00,0.00,0.00,0.00,0.00,normal.',\n",
       " '0,tcp,http,SF,239,486,0,0,0,0,0,1,0,0,0,0,0,0,0,0,0,0,8,8,0.00,0.00,0.00,0.00,1.00,0.00,0.00,19,19,1.00,0.00,0.05,0.00,0.00,0.00,0.00,0.00,normal.',\n",
       " '0,tcp,http,SF,235,1337,0,0,0,0,0,1,0,0,0,0,0,0,0,0,0,0,8,8,0.00,0.00,0.00,0.00,1.00,0.00,0.00,29,29,1.00,0.00,0.03,0.00,0.00,0.00,0.00,0.00,normal.',\n",
       " '0,tcp,http,SF,219,1337,0,0,0,0,0,1,0,0,0,0,0,0,0,0,0,0,6,6,0.00,0.00,0.00,0.00,1.00,0.00,0.00,39,39,1.00,0.00,0.03,0.00,0.00,0.00,0.00,0.00,normal.',\n",
       " '0,tcp,http,SF,217,2032,0,0,0,0,0,1,0,0,0,0,0,0,0,0,0,0,6,6,0.00,0.00,0.00,0.00,1.00,0.00,0.00,49,49,1.00,0.00,0.02,0.00,0.00,0.00,0.00,0.00,normal.',\n",
       " '0,tcp,http,SF,217,2032,0,0,0,0,0,1,0,0,0,0,0,0,0,0,0,0,6,6,0.00,0.00,0.00,0.00,1.00,0.00,0.00,59,59,1.00,0.00,0.02,0.00,0.00,0.00,0.00,0.00,normal.',\n",
       " '0,tcp,http,SF,212,1940,0,0,0,0,0,1,0,0,0,0,0,0,0,0,0,0,1,2,0.00,0.00,0.00,0.00,1.00,0.00,1.00,1,69,1.00,0.00,1.00,0.04,0.00,0.00,0.00,0.00,normal.',\n",
       " '0,tcp,http,SF,159,4087,0,0,0,0,0,1,0,0,0,0,0,0,0,0,0,0,5,5,0.00,0.00,0.00,0.00,1.00,0.00,0.00,11,79,1.00,0.00,0.09,0.04,0.00,0.00,0.00,0.00,normal.',\n",
       " '0,tcp,http,SF,210,151,0,0,0,0,0,1,0,0,0,0,0,0,0,0,0,0,8,8,0.00,0.00,0.00,0.00,1.00,0.00,0.00,8,89,1.00,0.00,0.12,0.04,0.00,0.00,0.00,0.00,normal.',\n",
       " '0,tcp,http,SF,212,786,0,0,0,1,0,1,0,0,0,0,0,0,0,0,0,0,8,8,0.00,0.00,0.00,0.00,1.00,0.00,0.00,8,99,1.00,0.00,0.12,0.05,0.00,0.00,0.00,0.00,normal.']"
      ]
     },
     "execution_count": 5,
     "metadata": {},
     "output_type": "execute_result"
    }
   ],
   "source": [
    "#part3\n",
    "from pyspark.sql import SparkSession\n",
    "from pyspark.sql.types import *\n",
    "from pyspark.sql.functions import *\n",
    "import re\n",
    "\n",
    "spark = SparkSession.builder.appName(\"assignment3\").getOrCreate()\n",
    "RDD=spark.sparkContext.textFile(\"/kdd/kddcup_data.gz\")\n",
    "RDD.take(10)"
   ]
  },
  {
   "cell_type": "code",
   "execution_count": 0,
   "metadata": {
    "application/vnd.databricks.v1+cell": {
     "cellMetadata": {
      "byteLimit": 2048000,
      "rowLimit": 10000
     },
     "inputWidgets": {},
     "nuid": "53234a18-d60b-4cc7-9c6b-7d2b82f6b063",
     "showTitle": false,
     "title": ""
    }
   },
   "outputs": [
    {
     "output_type": "stream",
     "name": "stdout",
     "output_type": "stream",
     "text": [
      "type of the data: <class 'pyspark.core.rdd.RDD'>\n"
     ]
    }
   ],
   "source": [
    "print(f'type of the data: {type(RDD)}')"
   ]
  },
  {
   "cell_type": "code",
   "execution_count": 0,
   "metadata": {
    "application/vnd.databricks.v1+cell": {
     "cellMetadata": {
      "byteLimit": 2048000,
      "rowLimit": 10000
     },
     "inputWidgets": {},
     "nuid": "c7fb7994-778d-4783-962f-271f74da8c43",
     "showTitle": false,
     "title": ""
    }
   },
   "outputs": [
    {
     "output_type": "stream",
     "name": "stdout",
     "output_type": "stream",
     "text": [
      "features num: 42\n"
     ]
    }
   ],
   "source": [
    "#part 4\n",
    "RDD_split=RDD.map(lambda x:x.split(',')) #split the data\n",
    "feature_list = ['duration', 'protocol_type', 'service', 'flag', 'src_bytes', 'dst_bytes', 'land', 'wrong_fragment', 'urgent', 'hot', 'num_failed_logins', 'logged_in', 'num_compromised', 'root_shell', 'su_attempted', 'num_root', 'num_file_creations', 'num_shells', 'num_access_files', 'num_outbound_cmds', 'is_host_login', 'is_guest_login', 'count', 'srv_count', 'serror_rate',  'srv_serror_rate', 'rerror_rate', 'srv_rerror_rate', 'same_srv_rate', 'diff_srv_rate', 'srv_diff_host_rate', 'dst_host_count', 'dst_host_srv_count', 'dst_host_same_srv_rate', 'dst_host_diff_srv_rate', 'dst_host_same_src_port_rate', 'dst_host_srv_diff_host_rate', 'dst_host_serror_rate', 'dst_host_srv_serror_rate', 'dst_host_rerror_rate', 'dst_host_srv_rerror_rate']\n",
    "\n",
    "titles=feature_list\n",
    "titles.append(\"label\")\n",
    "\n",
    "df = RDD_split.toDF(titles)\n",
    "print(f\"features num: {len(df.columns)}\")\n"
   ]
  },
  {
   "cell_type": "code",
   "execution_count": 0,
   "metadata": {
    "application/vnd.databricks.v1+cell": {
     "cellMetadata": {
      "byteLimit": 2048000,
      "rowLimit": 10000
     },
     "inputWidgets": {},
     "nuid": "4ba7ec21-6568-480e-a2a9-a1dfd8a7ae68",
     "showTitle": false,
     "title": ""
    }
   },
   "outputs": [
    {
     "output_type": "stream",
     "name": "stdout",
     "output_type": "stream",
     "text": [
      "root\n |-- duration: string (nullable = true)\n |-- protocol_type: string (nullable = true)\n |-- service: string (nullable = true)\n |-- src_bytes: string (nullable = true)\n |-- dst_bytes: string (nullable = true)\n |-- flag: string (nullable = true)\n |-- label: string (nullable = true)\n\n"
     ]
    },
    {
     "output_type": "execute_result",
     "data": {
      "text/plain": [
       "[Row(duration='0', protocol_type='tcp', service='http', src_bytes='181', dst_bytes='5450', flag='SF', label='normal.'),\n",
       " Row(duration='0', protocol_type='tcp', service='http', src_bytes='239', dst_bytes='486', flag='SF', label='normal.'),\n",
       " Row(duration='0', protocol_type='tcp', service='http', src_bytes='235', dst_bytes='1337', flag='SF', label='normal.'),\n",
       " Row(duration='0', protocol_type='tcp', service='http', src_bytes='219', dst_bytes='1337', flag='SF', label='normal.'),\n",
       " Row(duration='0', protocol_type='tcp', service='http', src_bytes='217', dst_bytes='2032', flag='SF', label='normal.'),\n",
       " Row(duration='0', protocol_type='tcp', service='http', src_bytes='217', dst_bytes='2032', flag='SF', label='normal.'),\n",
       " Row(duration='0', protocol_type='tcp', service='http', src_bytes='212', dst_bytes='1940', flag='SF', label='normal.'),\n",
       " Row(duration='0', protocol_type='tcp', service='http', src_bytes='159', dst_bytes='4087', flag='SF', label='normal.'),\n",
       " Row(duration='0', protocol_type='tcp', service='http', src_bytes='210', dst_bytes='151', flag='SF', label='normal.'),\n",
       " Row(duration='0', protocol_type='tcp', service='http', src_bytes='212', dst_bytes='786', flag='SF', label='normal.')]"
      ]
     },
     "execution_count": 18,
     "metadata": {},
     "output_type": "execute_result"
    }
   ],
   "source": [
    "#part5\n",
    "df_extract = df[\"duration\", \"protocol_type\", \"service\", \"src_bytes\", \"dst_bytes\", \"flag\", \"label\"]\n",
    "df_extract.printSchema()\n",
    "RDD_new = df_extract.rdd\n",
    "RDD_new.take(10)"
   ]
  },
  {
   "cell_type": "code",
   "execution_count": 0,
   "metadata": {
    "application/vnd.databricks.v1+cell": {
     "cellMetadata": {
      "byteLimit": 2048000,
      "rowLimit": 10000
     },
     "inputWidgets": {},
     "nuid": "05d5dc0b-2327-4ed2-85c7-c026b1994879",
     "showTitle": false,
     "title": ""
    }
   },
   "outputs": [
    {
     "output_type": "display_data",
     "data": {
      "text/html": [
       "<style scoped>\n",
       "  .table-result-container {\n",
       "    max-height: 300px;\n",
       "    overflow: auto;\n",
       "  }\n",
       "  table, th, td {\n",
       "    border: 1px solid black;\n",
       "    border-collapse: collapse;\n",
       "  }\n",
       "  th, td {\n",
       "    padding: 5px;\n",
       "  }\n",
       "  th {\n",
       "    text-align: left;\n",
       "  }\n",
       "</style><div class='table-result-container'><table class='table-result'><thead style='background-color: white'><tr><th>protocol_type</th><th>count</th></tr></thead><tbody><tr><td>udp</td><td>20354</td></tr><tr><td>tcp</td><td>190065</td></tr><tr><td>icmp</td><td>283602</td></tr></tbody></table></div>"
      ]
     },
     "metadata": {
      "application/vnd.databricks.v1+output": {
       "addedWidgets": {},
       "aggData": [],
       "aggError": "",
       "aggOverflow": false,
       "aggSchema": [],
       "aggSeriesLimitReached": false,
       "aggType": "",
       "arguments": {},
       "columnCustomDisplayInfos": {},
       "data": [
        [
         "udp",
         20354
        ],
        [
         "tcp",
         190065
        ],
        [
         "icmp",
         283602
        ]
       ],
       "datasetInfos": [],
       "dbfsResultPath": null,
       "isJsonSchema": true,
       "metadata": {},
       "overflow": false,
       "plotOptions": {
        "customPlotOptions": {},
        "displayType": "table",
        "pivotAggregation": null,
        "pivotColumns": null,
        "xColumns": null,
        "yColumns": null
       },
       "removedWidgets": [],
       "schema": [
        {
         "metadata": "{}",
         "name": "protocol_type",
         "type": "\"string\""
        },
        {
         "metadata": "{}",
         "name": "count",
         "type": "\"long\""
        }
       ],
       "type": "table"
      }
     },
     "output_type": "display_data"
    },
    {
     "output_type": "display_data",
     "data": {
      "text/html": [
       "<style scoped>\n",
       "  .table-result-container {\n",
       "    max-height: 300px;\n",
       "    overflow: auto;\n",
       "  }\n",
       "  table, th, td {\n",
       "    border: 1px solid black;\n",
       "    border-collapse: collapse;\n",
       "  }\n",
       "  th, td {\n",
       "    padding: 5px;\n",
       "  }\n",
       "  th {\n",
       "    text-align: left;\n",
       "  }\n",
       "</style><div class='table-result-container'><table class='table-result'><thead style='background-color: white'><tr><th>service</th><th>count</th></tr></thead><tbody><tr><td>tftp_u</td><td>1</td></tr><tr><td>pm_dump</td><td>1</td></tr><tr><td>red_i</td><td>1</td></tr><tr><td>tim_i</td><td>7</td></tr><tr><td>X11</td><td>11</td></tr><tr><td>urh_i</td><td>14</td></tr><tr><td>IRC</td><td>43</td></tr><tr><td>Z39_50</td><td>92</td></tr><tr><td>netstat</td><td>95</td></tr><tr><td>ctf</td><td>97</td></tr><tr><td>name</td><td>98</td></tr><tr><td>kshell</td><td>98</td></tr><tr><td>exec</td><td>99</td></tr><tr><td>netbios_dgm</td><td>99</td></tr><tr><td>http_443</td><td>99</td></tr><tr><td>ldap</td><td>101</td></tr><tr><td>pop_2</td><td>101</td></tr><tr><td>link</td><td>102</td></tr><tr><td>netbios_ns</td><td>102</td></tr><tr><td>daytime</td><td>103</td></tr><tr><td>efs</td><td>103</td></tr><tr><td>login</td><td>104</td></tr><tr><td>hostnames</td><td>104</td></tr><tr><td>nnsp</td><td>105</td></tr><tr><td>supdup</td><td>105</td></tr><tr><td>ssh</td><td>105</td></tr><tr><td>klogin</td><td>106</td></tr><tr><td>uucp_path</td><td>106</td></tr><tr><td>vmnet</td><td>106</td></tr><tr><td>uucp</td><td>106</td></tr><tr><td>bgp</td><td>106</td></tr><tr><td>mtp</td><td>107</td></tr><tr><td>netbios_ssn</td><td>107</td></tr><tr><td>sunrpc</td><td>107</td></tr><tr><td>courier</td><td>108</td></tr><tr><td>nntp</td><td>108</td></tr><tr><td>printer</td><td>109</td></tr><tr><td>sql_net</td><td>110</td></tr><tr><td>whois</td><td>110</td></tr><tr><td>rje</td><td>111</td></tr><tr><td>shell</td><td>112</td></tr><tr><td>echo</td><td>112</td></tr><tr><td>iso_tsap</td><td>115</td></tr><tr><td>systat</td><td>115</td></tr><tr><td>discard</td><td>116</td></tr><tr><td>domain</td><td>116</td></tr><tr><td>gopher</td><td>117</td></tr><tr><td>imap4</td><td>117</td></tr><tr><td>remote_job</td><td>120</td></tr><tr><td>csnet_ns</td><td>126</td></tr><tr><td>time</td><td>157</td></tr><tr><td>pop_3</td><td>202</td></tr><tr><td>auth</td><td>328</td></tr><tr><td>ntp_u</td><td>380</td></tr><tr><td>telnet</td><td>513</td></tr><tr><td>urp_i</td><td>538</td></tr><tr><td>finger</td><td>670</td></tr><tr><td>ftp</td><td>798</td></tr><tr><td>eco_i</td><td>1642</td></tr><tr><td>ftp_data</td><td>4721</td></tr><tr><td>domain_u</td><td>5863</td></tr><tr><td>other</td><td>7237</td></tr><tr><td>smtp</td><td>9723</td></tr><tr><td>http</td><td>64293</td></tr><tr><td>private</td><td>110893</td></tr><tr><td>ecr_i</td><td>281400</td></tr></tbody></table></div>"
      ]
     },
     "metadata": {
      "application/vnd.databricks.v1+output": {
       "addedWidgets": {},
       "aggData": [],
       "aggError": "",
       "aggOverflow": false,
       "aggSchema": [],
       "aggSeriesLimitReached": false,
       "aggType": "",
       "arguments": {},
       "columnCustomDisplayInfos": {},
       "data": [
        [
         "tftp_u",
         1
        ],
        [
         "pm_dump",
         1
        ],
        [
         "red_i",
         1
        ],
        [
         "tim_i",
         7
        ],
        [
         "X11",
         11
        ],
        [
         "urh_i",
         14
        ],
        [
         "IRC",
         43
        ],
        [
         "Z39_50",
         92
        ],
        [
         "netstat",
         95
        ],
        [
         "ctf",
         97
        ],
        [
         "name",
         98
        ],
        [
         "kshell",
         98
        ],
        [
         "exec",
         99
        ],
        [
         "netbios_dgm",
         99
        ],
        [
         "http_443",
         99
        ],
        [
         "ldap",
         101
        ],
        [
         "pop_2",
         101
        ],
        [
         "link",
         102
        ],
        [
         "netbios_ns",
         102
        ],
        [
         "daytime",
         103
        ],
        [
         "efs",
         103
        ],
        [
         "login",
         104
        ],
        [
         "hostnames",
         104
        ],
        [
         "nnsp",
         105
        ],
        [
         "supdup",
         105
        ],
        [
         "ssh",
         105
        ],
        [
         "klogin",
         106
        ],
        [
         "uucp_path",
         106
        ],
        [
         "vmnet",
         106
        ],
        [
         "uucp",
         106
        ],
        [
         "bgp",
         106
        ],
        [
         "mtp",
         107
        ],
        [
         "netbios_ssn",
         107
        ],
        [
         "sunrpc",
         107
        ],
        [
         "courier",
         108
        ],
        [
         "nntp",
         108
        ],
        [
         "printer",
         109
        ],
        [
         "sql_net",
         110
        ],
        [
         "whois",
         110
        ],
        [
         "rje",
         111
        ],
        [
         "shell",
         112
        ],
        [
         "echo",
         112
        ],
        [
         "iso_tsap",
         115
        ],
        [
         "systat",
         115
        ],
        [
         "discard",
         116
        ],
        [
         "domain",
         116
        ],
        [
         "gopher",
         117
        ],
        [
         "imap4",
         117
        ],
        [
         "remote_job",
         120
        ],
        [
         "csnet_ns",
         126
        ],
        [
         "time",
         157
        ],
        [
         "pop_3",
         202
        ],
        [
         "auth",
         328
        ],
        [
         "ntp_u",
         380
        ],
        [
         "telnet",
         513
        ],
        [
         "urp_i",
         538
        ],
        [
         "finger",
         670
        ],
        [
         "ftp",
         798
        ],
        [
         "eco_i",
         1642
        ],
        [
         "ftp_data",
         4721
        ],
        [
         "domain_u",
         5863
        ],
        [
         "other",
         7237
        ],
        [
         "smtp",
         9723
        ],
        [
         "http",
         64293
        ],
        [
         "private",
         110893
        ],
        [
         "ecr_i",
         281400
        ]
       ],
       "datasetInfos": [],
       "dbfsResultPath": null,
       "isJsonSchema": true,
       "metadata": {},
       "overflow": false,
       "plotOptions": {
        "customPlotOptions": {},
        "displayType": "table",
        "pivotAggregation": null,
        "pivotColumns": null,
        "xColumns": null,
        "yColumns": null
       },
       "removedWidgets": [],
       "schema": [
        {
         "metadata": "{}",
         "name": "service",
         "type": "\"string\""
        },
        {
         "metadata": "{}",
         "name": "count",
         "type": "\"long\""
        }
       ],
       "type": "table"
      }
     },
     "output_type": "display_data"
    },
    {
     "output_type": "execute_result",
     "data": {
      "text/plain": [
       "<Axes: title={'center': 'Service Counts'}, xlabel='service'>"
      ]
     },
     "execution_count": 23,
     "metadata": {},
     "output_type": "execute_result"
    },
    {
     "output_type": "display_data",
     "data": {
      "image/png": "[encoded data removed]",
      "text/plain": [
       "<Figure size 800x600 with 1 Axes>"
      ]
     },
     "metadata": {},
     "output_type": "display_data"
    },
    {
     "output_type": "display_data",
     "data": {
      "image/png": "[encoded data removed]",
      "text/plain": [
       "<Figure size 1100x500 with 1 Axes>"
      ]
     },
     "metadata": {},
     "output_type": "display_data"
    }
   ],
   "source": [
    "#part6\n",
    "df_protocol = df_extract.groupBy(\"protocol_type\").count().sort(\"count\", ascending = True)\n",
    "display(df_protocol)\n",
    "pd_protocol=df_protocol.toPandas()\n",
    "pd_protocol.plot.bar(x='protocol_type',y='count',figsize = (8, 6), title=\"Protocol Type Counts\")\n",
    "\n",
    "df_service = df_extract.groupBy(\"service\").count().sort(\"count\", ascending = True)\n",
    "display(df_service)\n",
    "pd_service=df_service.toPandas()#change to pandas in order to plot\n",
    "pd_service.plot.bar(x='service',y='count',figsize = (11, 5), title=\"Service Counts\")"
   ]
  },
  {
   "cell_type": "code",
   "execution_count": 0,
   "metadata": {
    "application/vnd.databricks.v1+cell": {
     "cellMetadata": {
      "byteLimit": 2048000,
      "rowLimit": 10000
     },
     "inputWidgets": {},
     "nuid": "e371bf1c-4aff-44d6-84ed-73afd23961f2",
     "showTitle": false,
     "title": ""
    }
   },
   "outputs": [
    {
     "output_type": "display_data",
     "data": {
      "text/html": [
       "<style scoped>\n",
       "  .table-result-container {\n",
       "    max-height: 300px;\n",
       "    overflow: auto;\n",
       "  }\n",
       "  table, th, td {\n",
       "    border: 1px solid black;\n",
       "    border-collapse: collapse;\n",
       "  }\n",
       "  th, td {\n",
       "    padding: 5px;\n",
       "  }\n",
       "  th {\n",
       "    text-align: left;\n",
       "  }\n",
       "</style><div class='table-result-container'><table class='table-result'><thead style='background-color: white'><tr><th>label</th><th>count</th></tr></thead><tbody><tr><td>spy.</td><td>2</td></tr><tr><td>perl.</td><td>3</td></tr><tr><td>phf.</td><td>4</td></tr><tr><td>multihop.</td><td>7</td></tr><tr><td>ftp_write.</td><td>8</td></tr><tr><td>loadmodule.</td><td>9</td></tr><tr><td>rootkit.</td><td>10</td></tr><tr><td>imap.</td><td>12</td></tr><tr><td>warezmaster.</td><td>20</td></tr><tr><td>land.</td><td>21</td></tr><tr><td>buffer_overflow.</td><td>30</td></tr><tr><td>guess_passwd.</td><td>53</td></tr><tr><td>nmap.</td><td>231</td></tr><tr><td>pod.</td><td>264</td></tr><tr><td>teardrop.</td><td>979</td></tr><tr><td>warezclient.</td><td>1020</td></tr><tr><td>portsweep.</td><td>1040</td></tr><tr><td>ipsweep.</td><td>1247</td></tr><tr><td>satan.</td><td>1589</td></tr><tr><td>back.</td><td>2203</td></tr><tr><td>normal.</td><td>97278</td></tr><tr><td>neptune.</td><td>107201</td></tr><tr><td>smurf.</td><td>280790</td></tr></tbody></table></div>"
      ]
     },
     "metadata": {
      "application/vnd.databricks.v1+output": {
       "addedWidgets": {},
       "aggData": [],
       "aggError": "",
       "aggOverflow": false,
       "aggSchema": [],
       "aggSeriesLimitReached": false,
       "aggType": "",
       "arguments": {},
       "columnCustomDisplayInfos": {},
       "data": [
        [
         "spy.",
         2
        ],
        [
         "perl.",
         3
        ],
        [
         "phf.",
         4
        ],
        [
         "multihop.",
         7
        ],
        [
         "ftp_write.",
         8
        ],
        [
         "loadmodule.",
         9
        ],
        [
         "rootkit.",
         10
        ],
        [
         "imap.",
         12
        ],
        [
         "warezmaster.",
         20
        ],
        [
         "land.",
         21
        ],
        [
         "buffer_overflow.",
         30
        ],
        [
         "guess_passwd.",
         53
        ],
        [
         "nmap.",
         231
        ],
        [
         "pod.",
         264
        ],
        [
         "teardrop.",
         979
        ],
        [
         "warezclient.",
         1020
        ],
        [
         "portsweep.",
         1040
        ],
        [
         "ipsweep.",
         1247
        ],
        [
         "satan.",
         1589
        ],
        [
         "back.",
         2203
        ],
        [
         "normal.",
         97278
        ],
        [
         "neptune.",
         107201
        ],
        [
         "smurf.",
         280790
        ]
       ],
       "datasetInfos": [],
       "dbfsResultPath": null,
       "isJsonSchema": true,
       "metadata": {},
       "overflow": false,
       "plotOptions": {
        "customPlotOptions": {},
        "displayType": "table",
        "pivotAggregation": null,
        "pivotColumns": null,
        "xColumns": null,
        "yColumns": null
       },
       "removedWidgets": [],
       "schema": [
        {
         "metadata": "{}",
         "name": "label",
         "type": "\"string\""
        },
        {
         "metadata": "{}",
         "name": "count",
         "type": "\"long\""
        }
       ],
       "type": "table"
      }
     },
     "output_type": "display_data"
    },
    {
     "output_type": "execute_result",
     "data": {
      "text/plain": [
       "<Axes: title={'center': 'label Type Counts'}, xlabel='label'>"
      ]
     },
     "execution_count": 24,
     "metadata": {},
     "output_type": "execute_result"
    },
    {
     "output_type": "display_data",
     "data": {
      "image/png": "[encoded data removed]",
      "text/plain": [
       "<Figure size 800x600 with 1 Axes>"
      ]
     },
     "metadata": {},
     "output_type": "display_data"
    }
   ],
   "source": [
    "#part7\n",
    "df_label = df_extract.groupBy(\"label\").count().sort(\"count\", ascending = True)\n",
    "display(df_label)\n",
    "pd_label=df_label.toPandas()\n",
    "pd_label.plot.bar(x='label',y='count',figsize = (8, 6), title=\"label Type Counts\")"
   ]
  },
  {
   "cell_type": "code",
   "execution_count": 0,
   "metadata": {
    "application/vnd.databricks.v1+cell": {
     "cellMetadata": {
      "byteLimit": 2048000,
      "rowLimit": 10000
     },
     "inputWidgets": {},
     "nuid": "f6659a27-9423-4115-a2ce-3189dc061b5c",
     "showTitle": false,
     "title": ""
    }
   },
   "outputs": [
    {
     "output_type": "display_data",
     "data": {
      "text/html": [
       "<style scoped>\n",
       "  .table-result-container {\n",
       "    max-height: 300px;\n",
       "    overflow: auto;\n",
       "  }\n",
       "  table, th, td {\n",
       "    border: 1px solid black;\n",
       "    border-collapse: collapse;\n",
       "  }\n",
       "  th, td {\n",
       "    padding: 5px;\n",
       "  }\n",
       "  th {\n",
       "    text-align: left;\n",
       "  }\n",
       "</style><div class='table-result-container'><table class='table-result'><thead style='background-color: white'><tr><th>label</th><th>count</th></tr></thead><tbody><tr><td>portsweep.</td><td>1</td></tr><tr><td>guess_passwd.</td><td>2</td></tr><tr><td>spy.</td><td>2</td></tr><tr><td>perl.</td><td>3</td></tr><tr><td>phf.</td><td>4</td></tr><tr><td>imap.</td><td>6</td></tr><tr><td>multihop.</td><td>7</td></tr><tr><td>ftp_write.</td><td>8</td></tr><tr><td>loadmodule.</td><td>9</td></tr><tr><td>rootkit.</td><td>10</td></tr><tr><td>warezmaster.</td><td>20</td></tr><tr><td>buffer_overflow.</td><td>29</td></tr><tr><td>nmap.</td><td>128</td></tr><tr><td>satan.</td><td>187</td></tr><tr><td>pod.</td><td>264</td></tr><tr><td>teardrop.</td><td>979</td></tr><tr><td>warezclient.</td><td>1016</td></tr><tr><td>ipsweep.</td><td>1161</td></tr><tr><td>back.</td><td>2105</td></tr><tr><td>normal.</td><td>91709</td></tr><tr><td>smurf.</td><td>280790</td></tr></tbody></table></div>"
      ]
     },
     "metadata": {
      "application/vnd.databricks.v1+output": {
       "addedWidgets": {},
       "aggData": [],
       "aggError": "",
       "aggOverflow": false,
       "aggSchema": [],
       "aggSeriesLimitReached": false,
       "aggType": "",
       "arguments": {},
       "columnCustomDisplayInfos": {},
       "data": [
        [
         "portsweep.",
         1
        ],
        [
         "guess_passwd.",
         2
        ],
        [
         "spy.",
         2
        ],
        [
         "perl.",
         3
        ],
        [
         "phf.",
         4
        ],
        [
         "imap.",
         6
        ],
        [
         "multihop.",
         7
        ],
        [
         "ftp_write.",
         8
        ],
        [
         "loadmodule.",
         9
        ],
        [
         "rootkit.",
         10
        ],
        [
         "warezmaster.",
         20
        ],
        [
         "buffer_overflow.",
         29
        ],
        [
         "nmap.",
         128
        ],
        [
         "satan.",
         187
        ],
        [
         "pod.",
         264
        ],
        [
         "teardrop.",
         979
        ],
        [
         "warezclient.",
         1016
        ],
        [
         "ipsweep.",
         1161
        ],
        [
         "back.",
         2105
        ],
        [
         "normal.",
         91709
        ],
        [
         "smurf.",
         280790
        ]
       ],
       "datasetInfos": [],
       "dbfsResultPath": null,
       "isJsonSchema": true,
       "metadata": {},
       "overflow": false,
       "plotOptions": {
        "customPlotOptions": {},
        "displayType": "table",
        "pivotAggregation": null,
        "pivotColumns": null,
        "xColumns": null,
        "yColumns": null
       },
       "removedWidgets": [],
       "schema": [
        {
         "metadata": "{}",
         "name": "label",
         "type": "\"string\""
        },
        {
         "metadata": "{}",
         "name": "count",
         "type": "\"long\""
        }
       ],
       "type": "table"
      }
     },
     "output_type": "display_data"
    },
    {
     "output_type": "execute_result",
     "data": {
      "text/plain": [
       "<Axes: title={'center': 'Label Counts for SF Flag'}, xlabel='label'>"
      ]
     },
     "execution_count": 27,
     "metadata": {},
     "output_type": "execute_result"
    },
    {
     "output_type": "display_data",
     "data": {
      "image/png": "[encoded data removed]",
      "text/plain": [
       "<Figure size 1100x500 with 1 Axes>"
      ]
     },
     "metadata": {},
     "output_type": "display_data"
    }
   ],
   "source": [
    "# Filter the DataFrame where the flag is 'SF'\n",
    "df_lf = df_extract.filter(df_extract.flag == \"SF\").groupBy('label').count().sort('count', ascending=True)\n",
    "display(df_lf)\n",
    "# Convert to Pandas DataFrame for plotting\n",
    "pd_lf = df_lf.toPandas()\n",
    "pd_lf.plot.bar(x='label', y='count', figsize=(11, 5), title=\"Label Counts for SF Flag\")\n"
   ]
  },
  {
   "cell_type": "code",
   "execution_count": 0,
   "metadata": {
    "application/vnd.databricks.v1+cell": {
     "cellMetadata": {
      "byteLimit": 2048000,
      "rowLimit": 10000
     },
     "inputWidgets": {},
     "nuid": "a0a02fbc-82a3-4e71-be88-1038e015326f",
     "showTitle": false,
     "title": ""
    }
   },
   "outputs": [
    {
     "output_type": "display_data",
     "data": {
      "text/html": [
       "<style scoped>\n",
       "  .table-result-container {\n",
       "    max-height: 300px;\n",
       "    overflow: auto;\n",
       "  }\n",
       "  table, th, td {\n",
       "    border: 1px solid black;\n",
       "    border-collapse: collapse;\n",
       "  }\n",
       "  th, td {\n",
       "    padding: 5px;\n",
       "  }\n",
       "  th {\n",
       "    text-align: left;\n",
       "  }\n",
       "</style><div class='table-result-container'><table class='table-result'><thead style='background-color: white'><tr><th>flag</th><th>count</th></tr></thead><tbody><tr><td>OTH</td><td>8</td></tr><tr><td>S3</td><td>10</td></tr><tr><td>RSTOS0</td><td>11</td></tr><tr><td>S2</td><td>24</td></tr><tr><td>S1</td><td>57</td></tr><tr><td>SH</td><td>107</td></tr><tr><td>RSTO</td><td>579</td></tr><tr><td>RSTR</td><td>903</td></tr><tr><td>REJ</td><td>26875</td></tr><tr><td>S0</td><td>87007</td></tr><tr><td>SF</td><td>378440</td></tr></tbody></table></div>"
      ]
     },
     "metadata": {
      "application/vnd.databricks.v1+output": {
       "addedWidgets": {},
       "aggData": [],
       "aggError": "",
       "aggOverflow": false,
       "aggSchema": [],
       "aggSeriesLimitReached": false,
       "aggType": "",
       "arguments": {},
       "columnCustomDisplayInfos": {},
       "data": [
        [
         "OTH",
         8
        ],
        [
         "S3",
         10
        ],
        [
         "RSTOS0",
         11
        ],
        [
         "S2",
         24
        ],
        [
         "S1",
         57
        ],
        [
         "SH",
         107
        ],
        [
         "RSTO",
         579
        ],
        [
         "RSTR",
         903
        ],
        [
         "REJ",
         26875
        ],
        [
         "S0",
         87007
        ],
        [
         "SF",
         378440
        ]
       ],
       "datasetInfos": [],
       "dbfsResultPath": null,
       "isJsonSchema": true,
       "metadata": {},
       "overflow": false,
       "plotOptions": {
        "customPlotOptions": {},
        "displayType": "table",
        "pivotAggregation": null,
        "pivotColumns": null,
        "xColumns": null,
        "yColumns": null
       },
       "removedWidgets": [],
       "schema": [
        {
         "metadata": "{}",
         "name": "flag",
         "type": "\"string\""
        },
        {
         "metadata": "{}",
         "name": "count",
         "type": "\"long\""
        }
       ],
       "type": "table"
      }
     },
     "output_type": "display_data"
    },
    {
     "output_type": "execute_result",
     "data": {
      "text/plain": [
       "<Axes: title={'center': 'flag Type Counts'}, xlabel='flag'>"
      ]
     },
     "execution_count": 25,
     "metadata": {},
     "output_type": "execute_result"
    },
    {
     "output_type": "display_data",
     "data": {
      "image/png": "[encoded data removed]",
      "text/plain": [
       "<Figure size 800x600 with 1 Axes>"
      ]
     },
     "metadata": {},
     "output_type": "display_data"
    }
   ],
   "source": [
    "df_flag = df_extract.groupBy(\"flag\").count().sort(\"count\", ascending = True)\n",
    "display(df_flag)\n",
    "pd_flag=df_flag.toPandas()\n",
    "pd_flag.plot.bar(x='flag',y='count',figsize = (8, 6), title=\"flag Type Counts\")"
   ]
  },
  {
   "cell_type": "code",
   "execution_count": 0,
   "metadata": {
    "application/vnd.databricks.v1+cell": {
     "cellMetadata": {
      "byteLimit": 2048000,
      "rowLimit": 10000
     },
     "inputWidgets": {},
     "nuid": "4511fe82-d570-4738-91fe-b66d9f4c2823",
     "showTitle": false,
     "title": ""
    }
   },
   "outputs": [
    {
     "output_type": "display_data",
     "data": {
      "application/vnd.jupyter.widget-view+json": {
       "model_id": "6995e860995349db9fed35cce9529a6f",
       "version_major": 2,
       "version_minor": 0
      },
      "text/plain": [
       "Downloading artifacts:   0%|          | 0/11 [00:00<?, ?it/s]"
      ]
     },
     "metadata": {},
     "output_type": "display_data"
    },
    {
     "output_type": "display_data",
     "data": {
      "application/vnd.jupyter.widget-view+json": {
       "model_id": "536d20b3cbb94d0a8f47cae1330c6e80",
       "version_major": 2,
       "version_minor": 0
      },
      "text/plain": [
       "Uploading artifacts:   0%|          | 0/4 [00:00<?, ?it/s]"
      ]
     },
     "metadata": {},
     "output_type": "display_data"
    },
    {
     "output_type": "stream",
     "name": "stdout",
     "output_type": "stream",
     "text": [
      "Accuracy: 0.8272343752105994\nRecall: 0.9469671052663086\n"
     ]
    }
   ],
   "source": [
    "#part 8\n",
    "from pyspark.sql.functions import *\n",
    "from pyspark.ml.feature import VectorAssembler\n",
    "from pyspark.ml.classification import LinearSVC\n",
    "from pyspark.ml import Pipeline\n",
    "from pyspark.ml.evaluation import BinaryClassificationEvaluator\n",
    "\n",
    "df_new = df_extract.withColumn('new_label', when(df_extract.label == 'normal.', 1).otherwise(0))\n",
    "df_new = df_new.withColumn('duration', col('duration').cast('int')) \\\n",
    "               .withColumn('src_bytes', col('src_bytes').cast('int')) \\\n",
    "               .withColumn('dst_bytes', col('dst_bytes').cast('int'))\n",
    "# df_new.show()\n",
    "\n",
    "#split data\n",
    "train_df, test_df = df_new.randomSplit([0.7, 0.3], seed=42) #0.7 train, 0.3 test\n",
    "selected_columns = ['duration', 'src_bytes', 'dst_bytes', 'new_label'] #use the three columns to create the training and test datasets\n",
    "train_df = train_df.select(selected_columns)\n",
    "test_df = test_df.select(selected_columns)\n",
    "\n",
    "# train the model\n",
    "assembler = VectorAssembler(inputCols=['duration', 'src_bytes', 'dst_bytes'], outputCol='features')\n",
    "svc = LinearSVC(labelCol='new_label', featuresCol='features')\n",
    "pipeline = Pipeline(stages=[assembler, svc])\n",
    "model = pipeline.fit(train_df)\n",
    "\n",
    "# evaluate the model\n",
    "predictions = model.transform(test_df)\n",
    "evaluator = BinaryClassificationEvaluator(labelCol='new_label')\n",
    "\n",
    "accuracy = predictions.filter(predictions.new_label == predictions.prediction).count() / float(test_df.count())\n",
    "recall = evaluator.evaluate(predictions, {evaluator.metricName: \"areaUnderROC\"})\n",
    "\n",
    "print(f\"Accuracy: {accuracy}\")\n",
    "print(f\"Recall: {recall}\")\n"
   ]
  }
 ],
 "metadata": {
  "application/vnd.databricks.v1+notebook": {
   "dashboards": [],
   "environmentMetadata": null,
   "language": "python",
   "notebookMetadata": {
    "pythonIndentUnit": 4
   },
   "notebookName": "Untitled Notebook 2024-07-04 11:09:34",
   "widgets": {}
  }
 },
 "nbformat": 4,
 "nbformat_minor": 0
}
